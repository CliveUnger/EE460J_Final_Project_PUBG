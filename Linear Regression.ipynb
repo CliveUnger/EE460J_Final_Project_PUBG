{
 "cells": [
  {
   "cell_type": "code",
   "execution_count": 2,
   "metadata": {},
   "outputs": [],
   "source": [
    "import numpy as np\n",
    "import pandas as pd\n",
    "\n"
   ]
  },
  {
   "cell_type": "code",
   "execution_count": 3,
   "metadata": {},
   "outputs": [],
   "source": [
    "xtrain = pd.read_pickle(\"modified_x_train.pkl\")\n",
    "ytrain = pd.read_pickle(\"modified_y_train.pkl\")\n",
    "test = pd.read_pickle(\"modified_x_test.pkl\")"
   ]
  },
  {
   "cell_type": "code",
   "execution_count": 4,
   "metadata": {},
   "outputs": [],
   "source": [
    "from sklearn.linear_model import LogisticRegression\n",
    "from sklearn.linear_model import LinearRegression"
   ]
  },
  {
   "cell_type": "code",
   "execution_count": 5,
   "metadata": {},
   "outputs": [
    {
     "data": {
      "text/plain": [
       "LinearRegression(copy_X=True, fit_intercept=True, n_jobs=1, normalize=False)"
      ]
     },
     "execution_count": 5,
     "metadata": {},
     "output_type": "execute_result"
    }
   ],
   "source": [
    "logReg = LogisticRegression(solver='saga')\n",
    "linReg = LinearRegression()\n",
    "\n",
    "linReg.fit(xtrain, ytrain)"
   ]
  },
  {
   "cell_type": "code",
   "execution_count": 8,
   "metadata": {},
   "outputs": [
    {
     "data": {
      "text/html": [
       "<div>\n",
       "<style scoped>\n",
       "    .dataframe tbody tr th:only-of-type {\n",
       "        vertical-align: middle;\n",
       "    }\n",
       "\n",
       "    .dataframe tbody tr th {\n",
       "        vertical-align: top;\n",
       "    }\n",
       "\n",
       "    .dataframe thead th {\n",
       "        text-align: right;\n",
       "    }\n",
       "</style>\n",
       "<table border=\"1\" class=\"dataframe\">\n",
       "  <thead>\n",
       "    <tr style=\"text-align: right;\">\n",
       "      <th></th>\n",
       "      <th>assists</th>\n",
       "      <th>boosts</th>\n",
       "      <th>DBNOs</th>\n",
       "      <th>headshotKills</th>\n",
       "      <th>heals</th>\n",
       "      <th>killPlace</th>\n",
       "      <th>killStreaks</th>\n",
       "      <th>longestKill</th>\n",
       "      <th>matchDuration</th>\n",
       "      <th>numGroups</th>\n",
       "      <th>...</th>\n",
       "      <th>pct_killed</th>\n",
       "      <th>pct_knocked</th>\n",
       "      <th>pct_kills_by_team</th>\n",
       "      <th>afk</th>\n",
       "      <th>cheater</th>\n",
       "      <th>killsNorm</th>\n",
       "      <th>damageDealtNorm</th>\n",
       "      <th>maxPlaceNorm</th>\n",
       "      <th>Id</th>\n",
       "      <th>winPlacePerc</th>\n",
       "    </tr>\n",
       "  </thead>\n",
       "  <tbody>\n",
       "    <tr>\n",
       "      <th>0</th>\n",
       "      <td>0</td>\n",
       "      <td>0</td>\n",
       "      <td>0</td>\n",
       "      <td>0</td>\n",
       "      <td>0</td>\n",
       "      <td>60</td>\n",
       "      <td>0</td>\n",
       "      <td>0.00</td>\n",
       "      <td>1306</td>\n",
       "      <td>26</td>\n",
       "      <td>...</td>\n",
       "      <td>0.000000</td>\n",
       "      <td>0.0</td>\n",
       "      <td>0.043011</td>\n",
       "      <td>0</td>\n",
       "      <td>0</td>\n",
       "      <td>0.00</td>\n",
       "      <td>0.0000</td>\n",
       "      <td>29.12</td>\n",
       "      <td>7f96b2f878858a</td>\n",
       "      <td>0.4444</td>\n",
       "    </tr>\n",
       "    <tr>\n",
       "      <th>1</th>\n",
       "      <td>0</td>\n",
       "      <td>0</td>\n",
       "      <td>0</td>\n",
       "      <td>0</td>\n",
       "      <td>0</td>\n",
       "      <td>57</td>\n",
       "      <td>0</td>\n",
       "      <td>0.00</td>\n",
       "      <td>1777</td>\n",
       "      <td>25</td>\n",
       "      <td>...</td>\n",
       "      <td>0.000000</td>\n",
       "      <td>0.0</td>\n",
       "      <td>0.045455</td>\n",
       "      <td>0</td>\n",
       "      <td>0</td>\n",
       "      <td>0.00</td>\n",
       "      <td>99.7023</td>\n",
       "      <td>28.34</td>\n",
       "      <td>eef90569b9d03c</td>\n",
       "      <td>0.6400</td>\n",
       "    </tr>\n",
       "    <tr>\n",
       "      <th>2</th>\n",
       "      <td>1</td>\n",
       "      <td>0</td>\n",
       "      <td>0</td>\n",
       "      <td>0</td>\n",
       "      <td>0</td>\n",
       "      <td>47</td>\n",
       "      <td>0</td>\n",
       "      <td>0.00</td>\n",
       "      <td>1318</td>\n",
       "      <td>47</td>\n",
       "      <td>...</td>\n",
       "      <td>0.000000</td>\n",
       "      <td>0.0</td>\n",
       "      <td>0.020619</td>\n",
       "      <td>0</td>\n",
       "      <td>0</td>\n",
       "      <td>0.00</td>\n",
       "      <td>69.3600</td>\n",
       "      <td>51.00</td>\n",
       "      <td>1eaf90ac73de72</td>\n",
       "      <td>0.7755</td>\n",
       "    </tr>\n",
       "    <tr>\n",
       "      <th>3</th>\n",
       "      <td>0</td>\n",
       "      <td>0</td>\n",
       "      <td>0</td>\n",
       "      <td>0</td>\n",
       "      <td>0</td>\n",
       "      <td>75</td>\n",
       "      <td>0</td>\n",
       "      <td>0.00</td>\n",
       "      <td>1436</td>\n",
       "      <td>30</td>\n",
       "      <td>...</td>\n",
       "      <td>0.000000</td>\n",
       "      <td>0.0</td>\n",
       "      <td>0.000000</td>\n",
       "      <td>0</td>\n",
       "      <td>0</td>\n",
       "      <td>0.00</td>\n",
       "      <td>35.8610</td>\n",
       "      <td>33.79</td>\n",
       "      <td>4616d365dd2853</td>\n",
       "      <td>0.1667</td>\n",
       "    </tr>\n",
       "    <tr>\n",
       "      <th>4</th>\n",
       "      <td>0</td>\n",
       "      <td>0</td>\n",
       "      <td>0</td>\n",
       "      <td>0</td>\n",
       "      <td>0</td>\n",
       "      <td>45</td>\n",
       "      <td>1</td>\n",
       "      <td>58.53</td>\n",
       "      <td>1424</td>\n",
       "      <td>95</td>\n",
       "      <td>...</td>\n",
       "      <td>0.010309</td>\n",
       "      <td>0.0</td>\n",
       "      <td>0.010309</td>\n",
       "      <td>0</td>\n",
       "      <td>0</td>\n",
       "      <td>1.03</td>\n",
       "      <td>103.0000</td>\n",
       "      <td>99.91</td>\n",
       "      <td>315c96c26c9aac</td>\n",
       "      <td>0.1875</td>\n",
       "    </tr>\n",
       "  </tbody>\n",
       "</table>\n",
       "<p>5 rows × 47 columns</p>\n",
       "</div>"
      ],
      "text/plain": [
       "   assists  boosts  DBNOs  headshotKills  heals  killPlace  killStreaks  \\\n",
       "0        0       0      0              0      0         60            0   \n",
       "1        0       0      0              0      0         57            0   \n",
       "2        1       0      0              0      0         47            0   \n",
       "3        0       0      0              0      0         75            0   \n",
       "4        0       0      0              0      0         45            1   \n",
       "\n",
       "   longestKill  matchDuration  numGroups      ...       pct_killed  \\\n",
       "0         0.00           1306         26      ...         0.000000   \n",
       "1         0.00           1777         25      ...         0.000000   \n",
       "2         0.00           1318         47      ...         0.000000   \n",
       "3         0.00           1436         30      ...         0.000000   \n",
       "4        58.53           1424         95      ...         0.010309   \n",
       "\n",
       "   pct_knocked  pct_kills_by_team  afk  cheater  killsNorm  damageDealtNorm  \\\n",
       "0          0.0           0.043011    0        0       0.00           0.0000   \n",
       "1          0.0           0.045455    0        0       0.00          99.7023   \n",
       "2          0.0           0.020619    0        0       0.00          69.3600   \n",
       "3          0.0           0.000000    0        0       0.00          35.8610   \n",
       "4          0.0           0.010309    0        0       1.03         103.0000   \n",
       "\n",
       "   maxPlaceNorm              Id  winPlacePerc  \n",
       "0         29.12  7f96b2f878858a        0.4444  \n",
       "1         28.34  eef90569b9d03c        0.6400  \n",
       "2         51.00  1eaf90ac73de72        0.7755  \n",
       "3         33.79  4616d365dd2853        0.1667  \n",
       "4         99.91  315c96c26c9aac        0.1875  \n",
       "\n",
       "[5 rows x 47 columns]"
      ]
     },
     "execution_count": 8,
     "metadata": {},
     "output_type": "execute_result"
    }
   ],
   "source": [
    "train_pp = pd.read_csv(\"new_train.csv\")\n",
    "train_pp.head()"
   ]
  },
  {
   "cell_type": "code",
   "execution_count": 7,
   "metadata": {},
   "outputs": [],
   "source": [
    "sample_train = xtrain_pp.sample(frac=0.05)\n",
    "sample_y_train = sample_train['winPlacePerc']\n",
    "\n",
    "dropColumns = ['Id', 'winPlacePerc']\n",
    "sample_train.drop(dropColumns, axis = 1, inplace = True) \n",
    "\n",
    "sample_train.to_csv('5_feature_X_train', index = False)\n",
    "sample_y_train.to_csv('5_feature_y_train', index = False)"
   ]
  },
  {
   "cell_type": "code",
   "execution_count": 40,
   "metadata": {},
   "outputs": [],
   "source": [
    "# Linear Regression using Clive's preprocessed data\n",
    "xtrain_pp = train_pp.iloc[:,0:44]"
   ]
  },
  {
   "cell_type": "code",
   "execution_count": 36,
   "metadata": {},
   "outputs": [],
   "source": [
    "ytrain_pp = train_pp.loc[:, 'winPlacePerc']"
   ]
  },
  {
   "cell_type": "code",
   "execution_count": 42,
   "metadata": {},
   "outputs": [
    {
     "data": {
      "text/plain": [
       "LinearRegression(copy_X=True, fit_intercept=True, n_jobs=1, normalize=False)"
      ]
     },
     "execution_count": 42,
     "metadata": {},
     "output_type": "execute_result"
    }
   ],
   "source": [
    "linReg.fit(xtrain_pp, ytrain_pp)"
   ]
  },
  {
   "cell_type": "code",
   "execution_count": 45,
   "metadata": {},
   "outputs": [
    {
     "data": {
      "text/plain": [
       "0.08608286905320628"
      ]
     },
     "execution_count": 45,
     "metadata": {},
     "output_type": "execute_result"
    }
   ],
   "source": [
    "from sklearn.metrics import mean_absolute_error\n",
    "\n",
    "mean_absolute_error(ytrain_pp, linReg.predict(xtrain_pp))"
   ]
  },
  {
   "cell_type": "code",
   "execution_count": 77,
   "metadata": {},
   "outputs": [
    {
     "name": "stdout",
     "output_type": "stream",
     "text": [
      "True\n",
      "(44,)\n",
      "[7071188.2113882415, 7071188.197292174, 1651304.0562841364, 1651304.0563964953, 1651304.0563708371, 2261539.905320178, -4809648.306094578, -2261539.895555538, -1651304.0562679623] ['boosts', 'heals', 'rideDistance', 'swimDistance', 'walkDistance', 'weaponsAcquired', 'heals_and_boosts', 'total_items_acquired', 'total_distance']\n"
     ]
    }
   ],
   "source": [
    "feat_coefs = linReg.coef_\n",
    "feat_names = xtrain_pp.columns\n",
    "\n",
    "\n",
    "print(feat_coefs[23] < 1 or feat_coefs[22] > -1)\n",
    "print(feat_names.shape)\n",
    "\n",
    "\n",
    "important_coefs = []\n",
    "important_names = []\n",
    "\n",
    "for i in range(0, 44):\n",
    "    if(feat_coefs[i] > 100 or feat_coefs[i] < -100):\n",
    "        important_coefs.append(feat_coefs[i])\n",
    "        important_names.append(feat_names[i])\n",
    "\n",
    "print(important_coefs, important_names)"
   ]
  },
  {
   "cell_type": "code",
   "execution_count": 80,
   "metadata": {},
   "outputs": [
    {
     "data": {
      "text/plain": [
       "<BarContainer object of 9 artists>"
      ]
     },
     "execution_count": 80,
     "metadata": {},
     "output_type": "execute_result"
    },
    {
     "data": {
      "image/png": "[encoded data removed]",
      "text/plain": [
       "<Figure size 1440x720 with 1 Axes>"
      ]
     },
     "metadata": {},
     "output_type": "display_data"
    }
   ],
   "source": [
    "import matplotlib.pyplot as plt\n",
    "\n",
    "plt.figure(figsize=(20,10))\n",
    "plt.title('Linear Regression Feature Importance')\n",
    "plt.xticks(rotation=80)\n",
    "plt.bar(important_names, important_coefs)"
   ]
  },
  {
   "cell_type": "code",
   "execution_count": 55,
   "metadata": {},
   "outputs": [
    {
     "data": {
      "text/plain": [
       "array([-2.93452552e-03,  7.07118821e+06, -1.81327667e-02,  4.37048726e-02,\n",
       "        7.07118820e+06, -7.24250818e-03, -1.26697384e-01, -3.99804780e-06,\n",
       "       -1.45721452e-04, -7.16744145e-04,  2.32851601e-03,  1.65130406e+06,\n",
       "        1.67207396e-02,  1.65130406e+06, -1.13288340e-02,  4.98348152e-03,\n",
       "        1.65130406e+06,  2.26153991e+06,  4.80738166e-03, -2.01708266e-02,\n",
       "        4.20601548e-02, -4.80964831e+06, -2.26153990e+06, -1.02877071e-01,\n",
       "        1.97494419e-03, -6.21146186e-04, -1.65130406e+06, -1.40639512e-01,\n",
       "        1.20584028e+01,  1.20397876e+01, -1.20357516e+01,  1.13494104e-02,\n",
       "       -8.54619892e-03,  4.16650612e-05,  8.24834954e-03,  2.91401509e-03,\n",
       "        7.25923269e-01,  4.20186466e-01, -1.52231552e-01, -4.22089390e-02,\n",
       "        1.92952842e-01, -3.61473782e-02,  4.79574272e-05,  1.14155106e-03])"
      ]
     },
     "execution_count": 55,
     "metadata": {},
     "output_type": "execute_result"
    }
   ],
   "source": [
    "linReg.coef_"
   ]
  },
  {
   "cell_type": "code",
   "execution_count": null,
   "metadata": {},
   "outputs": [],
   "source": []
  }
 ],
 "metadata": {
  "kernelspec": {
   "display_name": "Python 3",
   "language": "python",
   "name": "python3"
  },
  "language_info": {
   "codemirror_mode": {
    "name": "ipython",
    "version": 3
   },
   "file_extension": ".py",
   "mimetype": "text/x-python",
   "name": "python",
   "nbconvert_exporter": "python",
   "pygments_lexer": "ipython3",
   "version": "3.6.5"
  }
 },
 "nbformat": 4,
 "nbformat_minor": 2
}
