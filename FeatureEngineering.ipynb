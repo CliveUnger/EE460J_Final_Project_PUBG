{
 "cells": [
  {
   "cell_type": "markdown",
   "metadata": {},
   "source": [
    "# PUBG Kaggle"
   ]
  },
  {
   "cell_type": "code",
   "execution_count": 1,
   "metadata": {},
   "outputs": [],
   "source": [
    "import pandas as pd\n",
    "import numpy as np\n",
    "import seaborn as sns\n",
    "import matplotlib\n",
    "import matplotlib.pyplot as plt\n",
    "from scipy.stats import skew\n",
    "from scipy.stats.stats import pearsonr\n",
    "from sklearn.metrics import roc_auc_score\n",
    "from sklearn.model_selection import KFold, cross_val_score, train_test_split, cross_val_predict, GridSearchCV, StratifiedKFold\n",
    "from sklearn.linear_model import Ridge, RidgeCV, ElasticNet, Lasso, LassoCV, LogisticRegression\n",
    "from sklearn.ensemble import RandomForestRegressor\n",
    "import xgboost as xgb\n",
    "from sklearn import preprocessing\n",
    "from sklearn.decomposition import PCA\n",
    "import pprint\n",
    "\n",
    "%matplotlib inline"
   ]
  },
  {
   "cell_type": "code",
   "execution_count": 2,
   "metadata": {},
   "outputs": [
    {
     "data": {
      "text/html": [
       "<div>\n",
       "<style scoped>\n",
       "    .dataframe tbody tr th:only-of-type {\n",
       "        vertical-align: middle;\n",
       "    }\n",
       "\n",
       "    .dataframe tbody tr th {\n",
       "        vertical-align: top;\n",
       "    }\n",
       "\n",
       "    .dataframe thead th {\n",
       "        text-align: right;\n",
       "    }\n",
       "</style>\n",
       "<table border=\"1\" class=\"dataframe\">\n",
       "  <thead>\n",
       "    <tr style=\"text-align: right;\">\n",
       "      <th></th>\n",
       "      <th>groupId</th>\n",
       "      <th>matchId</th>\n",
       "      <th>assists</th>\n",
       "      <th>boosts</th>\n",
       "      <th>damageDealt</th>\n",
       "      <th>DBNOs</th>\n",
       "      <th>headshotKills</th>\n",
       "      <th>heals</th>\n",
       "      <th>killPlace</th>\n",
       "      <th>killPoints</th>\n",
       "      <th>...</th>\n",
       "      <th>revives</th>\n",
       "      <th>rideDistance</th>\n",
       "      <th>roadKills</th>\n",
       "      <th>swimDistance</th>\n",
       "      <th>teamKills</th>\n",
       "      <th>vehicleDestroys</th>\n",
       "      <th>walkDistance</th>\n",
       "      <th>weaponsAcquired</th>\n",
       "      <th>winPoints</th>\n",
       "      <th>winPlacePerc</th>\n",
       "    </tr>\n",
       "  </thead>\n",
       "  <tbody>\n",
       "    <tr>\n",
       "      <th>0</th>\n",
       "      <td>4d4b580de459be</td>\n",
       "      <td>a10357fd1a4a91</td>\n",
       "      <td>0</td>\n",
       "      <td>0</td>\n",
       "      <td>0.00</td>\n",
       "      <td>0</td>\n",
       "      <td>0</td>\n",
       "      <td>0</td>\n",
       "      <td>60</td>\n",
       "      <td>1241</td>\n",
       "      <td>...</td>\n",
       "      <td>0</td>\n",
       "      <td>0.0000</td>\n",
       "      <td>0</td>\n",
       "      <td>0.00</td>\n",
       "      <td>0</td>\n",
       "      <td>0</td>\n",
       "      <td>244.80</td>\n",
       "      <td>1</td>\n",
       "      <td>1466</td>\n",
       "      <td>0.4444</td>\n",
       "    </tr>\n",
       "    <tr>\n",
       "      <th>1</th>\n",
       "      <td>684d5656442f9e</td>\n",
       "      <td>aeb375fc57110c</td>\n",
       "      <td>0</td>\n",
       "      <td>0</td>\n",
       "      <td>91.47</td>\n",
       "      <td>0</td>\n",
       "      <td>0</td>\n",
       "      <td>0</td>\n",
       "      <td>57</td>\n",
       "      <td>0</td>\n",
       "      <td>...</td>\n",
       "      <td>0</td>\n",
       "      <td>0.0045</td>\n",
       "      <td>0</td>\n",
       "      <td>11.04</td>\n",
       "      <td>0</td>\n",
       "      <td>0</td>\n",
       "      <td>1434.00</td>\n",
       "      <td>5</td>\n",
       "      <td>0</td>\n",
       "      <td>0.6400</td>\n",
       "    </tr>\n",
       "    <tr>\n",
       "      <th>2</th>\n",
       "      <td>6a4a42c3245a74</td>\n",
       "      <td>110163d8bb94ae</td>\n",
       "      <td>1</td>\n",
       "      <td>0</td>\n",
       "      <td>68.00</td>\n",
       "      <td>0</td>\n",
       "      <td>0</td>\n",
       "      <td>0</td>\n",
       "      <td>47</td>\n",
       "      <td>0</td>\n",
       "      <td>...</td>\n",
       "      <td>0</td>\n",
       "      <td>0.0000</td>\n",
       "      <td>0</td>\n",
       "      <td>0.00</td>\n",
       "      <td>0</td>\n",
       "      <td>0</td>\n",
       "      <td>161.80</td>\n",
       "      <td>2</td>\n",
       "      <td>0</td>\n",
       "      <td>0.7755</td>\n",
       "    </tr>\n",
       "    <tr>\n",
       "      <th>3</th>\n",
       "      <td>a930a9c79cd721</td>\n",
       "      <td>f1f1f4ef412d7e</td>\n",
       "      <td>0</td>\n",
       "      <td>0</td>\n",
       "      <td>32.90</td>\n",
       "      <td>0</td>\n",
       "      <td>0</td>\n",
       "      <td>0</td>\n",
       "      <td>75</td>\n",
       "      <td>0</td>\n",
       "      <td>...</td>\n",
       "      <td>0</td>\n",
       "      <td>0.0000</td>\n",
       "      <td>0</td>\n",
       "      <td>0.00</td>\n",
       "      <td>0</td>\n",
       "      <td>0</td>\n",
       "      <td>202.70</td>\n",
       "      <td>3</td>\n",
       "      <td>0</td>\n",
       "      <td>0.1667</td>\n",
       "    </tr>\n",
       "    <tr>\n",
       "      <th>4</th>\n",
       "      <td>de04010b3458dd</td>\n",
       "      <td>6dc8ff871e21e6</td>\n",
       "      <td>0</td>\n",
       "      <td>0</td>\n",
       "      <td>100.00</td>\n",
       "      <td>0</td>\n",
       "      <td>0</td>\n",
       "      <td>0</td>\n",
       "      <td>45</td>\n",
       "      <td>0</td>\n",
       "      <td>...</td>\n",
       "      <td>0</td>\n",
       "      <td>0.0000</td>\n",
       "      <td>0</td>\n",
       "      <td>0.00</td>\n",
       "      <td>0</td>\n",
       "      <td>0</td>\n",
       "      <td>49.75</td>\n",
       "      <td>2</td>\n",
       "      <td>0</td>\n",
       "      <td>0.1875</td>\n",
       "    </tr>\n",
       "  </tbody>\n",
       "</table>\n",
       "<p>5 rows × 28 columns</p>\n",
       "</div>"
      ],
      "text/plain": [
       "          groupId         matchId  assists  boosts  damageDealt  DBNOs  \\\n",
       "0  4d4b580de459be  a10357fd1a4a91        0       0         0.00      0   \n",
       "1  684d5656442f9e  aeb375fc57110c        0       0        91.47      0   \n",
       "2  6a4a42c3245a74  110163d8bb94ae        1       0        68.00      0   \n",
       "3  a930a9c79cd721  f1f1f4ef412d7e        0       0        32.90      0   \n",
       "4  de04010b3458dd  6dc8ff871e21e6        0       0       100.00      0   \n",
       "\n",
       "   headshotKills  heals  killPlace  killPoints      ...       revives  \\\n",
       "0              0      0         60        1241      ...             0   \n",
       "1              0      0         57           0      ...             0   \n",
       "2              0      0         47           0      ...             0   \n",
       "3              0      0         75           0      ...             0   \n",
       "4              0      0         45           0      ...             0   \n",
       "\n",
       "   rideDistance  roadKills  swimDistance teamKills  vehicleDestroys  \\\n",
       "0        0.0000          0          0.00         0                0   \n",
       "1        0.0045          0         11.04         0                0   \n",
       "2        0.0000          0          0.00         0                0   \n",
       "3        0.0000          0          0.00         0                0   \n",
       "4        0.0000          0          0.00         0                0   \n",
       "\n",
       "   walkDistance  weaponsAcquired  winPoints  winPlacePerc  \n",
       "0        244.80                1       1466        0.4444  \n",
       "1       1434.00                5          0        0.6400  \n",
       "2        161.80                2          0        0.7755  \n",
       "3        202.70                3          0        0.1667  \n",
       "4         49.75                2          0        0.1875  \n",
       "\n",
       "[5 rows x 28 columns]"
      ]
     },
     "execution_count": 2,
     "metadata": {},
     "output_type": "execute_result"
    }
   ],
   "source": [
    "# Read CSV files\n",
    "train = pd.read_csv(\"train_V2.csv\")\n",
    "test = pd.read_csv(\"test_V2.csv\")\n",
    "\n",
    "#train.drop(train['winPlacePerc'].isnull().index, axis=0, inplace=True)\n",
    "train.drop(2744604, inplace=True)\n",
    "\n",
    "trainId = train['Id']\n",
    "testId  = test['Id']\n",
    "\n",
    "train.drop(\"Id\", axis = 1, inplace = True)\n",
    "test.drop(\"Id\", axis = 1, inplace = True)\n",
    "\n",
    "train.head()"
   ]
  },
  {
   "cell_type": "code",
   "execution_count": 3,
   "metadata": {},
   "outputs": [
    {
     "name": "stdout",
     "output_type": "stream",
     "text": [
      "<class 'pandas.core.frame.DataFrame'>\n",
      "Int64Index: 4446965 entries, 0 to 4446965\n",
      "Data columns (total 28 columns):\n",
      "groupId            object\n",
      "matchId            object\n",
      "assists            int64\n",
      "boosts             int64\n",
      "damageDealt        float64\n",
      "DBNOs              int64\n",
      "headshotKills      int64\n",
      "heals              int64\n",
      "killPlace          int64\n",
      "killPoints         int64\n",
      "kills              int64\n",
      "killStreaks        int64\n",
      "longestKill        float64\n",
      "matchDuration      int64\n",
      "matchType          object\n",
      "maxPlace           int64\n",
      "numGroups          int64\n",
      "rankPoints         int64\n",
      "revives            int64\n",
      "rideDistance       float64\n",
      "roadKills          int64\n",
      "swimDistance       float64\n",
      "teamKills          int64\n",
      "vehicleDestroys    int64\n",
      "walkDistance       float64\n",
      "weaponsAcquired    int64\n",
      "winPoints          int64\n",
      "winPlacePerc       float64\n",
      "dtypes: float64(6), int64(19), object(3)\n",
      "memory usage: 983.9+ MB\n"
     ]
    }
   ],
   "source": [
    "train.info()"
   ]
  },
  {
   "cell_type": "code",
   "execution_count": 4,
   "metadata": {},
   "outputs": [
    {
     "data": {
      "text/plain": [
       "(6381139, 27)"
      ]
     },
     "execution_count": 4,
     "metadata": {},
     "output_type": "execute_result"
    }
   ],
   "source": [
    "# Concat training and set set for data exploration and feature engineering\n",
    "y_train = train['winPlacePerc']\n",
    "\n",
    "all_data = pd.concat((train.loc[:,'groupId':'winPoints'],\n",
    "                     test.loc[:,'groupId':'winPoints']))\n",
    "all_data.shape"
   ]
  },
  {
   "cell_type": "code",
   "execution_count": 5,
   "metadata": {},
   "outputs": [
    {
     "data": {
      "text/html": [
       "<div>\n",
       "<style scoped>\n",
       "    .dataframe tbody tr th:only-of-type {\n",
       "        vertical-align: middle;\n",
       "    }\n",
       "\n",
       "    .dataframe tbody tr th {\n",
       "        vertical-align: top;\n",
       "    }\n",
       "\n",
       "    .dataframe thead th {\n",
       "        text-align: right;\n",
       "    }\n",
       "</style>\n",
       "<table border=\"1\" class=\"dataframe\">\n",
       "  <thead>\n",
       "    <tr style=\"text-align: right;\">\n",
       "      <th></th>\n",
       "      <th>Missing Ratio</th>\n",
       "    </tr>\n",
       "  </thead>\n",
       "  <tbody>\n",
       "  </tbody>\n",
       "</table>\n",
       "</div>"
      ],
      "text/plain": [
       "Empty DataFrame\n",
       "Columns: [Missing Ratio]\n",
       "Index: []"
      ]
     },
     "execution_count": 5,
     "metadata": {},
     "output_type": "execute_result"
    }
   ],
   "source": [
    "all_data_na = (all_data.isnull().sum() / len(all_data)) * 100\n",
    "all_data_na = all_data_na.drop(all_data_na[all_data_na == 0].index).sort_values(ascending=False)[:30]\n",
    "missing_data = pd.DataFrame({'Missing Ratio' :all_data_na})\n",
    "missing_data.head(20)"
   ]
  },
  {
   "cell_type": "code",
   "execution_count": 6,
   "metadata": {},
   "outputs": [
    {
     "name": "stdout",
     "output_type": "stream",
     "text": [
      "The average person kills 0.9248 players, 99% of people have 7.0 kills or less, while the most kills ever recorded is 72.\n"
     ]
    }
   ],
   "source": [
    "print(\"The average person kills {:.4f} players, 99% of people have {} kills or less, while the most kills ever recorded is {}.\".format(train['kills'].mean(),train['kills'].quantile(0.99), train['kills'].max()))"
   ]
  },
  {
   "cell_type": "raw",
   "metadata": {},
   "source": [
    "top10 = train[train[\"winPlacePerc\"]>0.9]\n",
    "print(\"TOP 10% overview\\n\")\n",
    "print(\"Average number of kills: {:.1f}\\nMinimum: {}\\nThe best: {}\\n95% of players within: {} kills.\" \n",
    "      .format(top10[\"kills\"].mean(), top10[\"kills\"].min(), top10[\"kills\"].max(),top10[\"kills\"].quantile(0.95)))\n",
    "\n",
    "top10.plot(x=\"kills\", y=\"damageDealt\", kind=\"scatter\", figsize = (15,10))"
   ]
  },
  {
   "cell_type": "raw",
   "metadata": {},
   "source": [
    "fig, ax1 = plt.subplots(figsize = (15,10))\n",
    "walk.hist('walkDistance', bins=40, figsize = (15,10), ax = ax1)\n",
    "walk10 = top10[top10['walkDistance']<5000]\n",
    "walk10.hist('walkDistance', bins=40, figsize = (15,10), ax = ax1)\n",
    "\n",
    "print(\"Average walking distance: \" + str(top10['walkDistance'].mean()))"
   ]
  },
  {
   "cell_type": "raw",
   "metadata": {},
   "source": [
    "print(\"On average the best 10% of players have the longest kill at {:.3f} meters, and the best score is {:.1f} meters.\" .format(top10[\"longestKill\"].mean(), top10[\"longestKill\"].max()))"
   ]
  },
  {
   "cell_type": "code",
   "execution_count": 7,
   "metadata": {},
   "outputs": [
    {
     "data": {
      "text/plain": [
       "<matplotlib.axes._subplots.AxesSubplot at 0x7f22d4fd2b70>"
      ]
     },
     "execution_count": 7,
     "metadata": {},
     "output_type": "execute_result"
    },
    {
     "data": {
      "image/png": "[encoded data removed]",
      "text/plain": [
       "<Figure size 864x288 with 2 Axes>"
      ]
     },
     "metadata": {
      "needs_background": "light"
     },
     "output_type": "display_data"
    }
   ],
   "source": [
    "fig, ax = plt.subplots(1, 2, figsize=(12, 4))\n",
    "\n",
    "all_data['matchType'].value_counts().plot.bar(ax=ax[0])\n",
    "\n",
    "'''\n",
    "solo  <-- solo,solo-fpp,normal-solo,normal-solo-fpp\n",
    "duo   <-- duo,duo-fpp,normal-duo,normal-duo-fpp,crashfpp,crashtpp\n",
    "squad <-- squad,squad-fpp,normal-squad,normal-squad-fpp,flarefpp,flaretpp\n",
    "'''\n",
    "mapper = lambda x: 'fpp' if ('fpp' in x) else 'tpp'\n",
    "all_data[\"perspective\"] = all_data['matchType'].apply(mapper)\n",
    "all_data[\"perspective\"].value_counts().plot.bar(ax=ax[1])"
   ]
  },
  {
   "cell_type": "code",
   "execution_count": 8,
   "metadata": {},
   "outputs": [
    {
     "data": {
      "text/plain": [
       "<matplotlib.axes._subplots.AxesSubplot at 0x7f22d46783c8>"
      ]
     },
     "execution_count": 8,
     "metadata": {},
     "output_type": "execute_result"
    },
    {
     "data": {
      "image/png": "[encoded data removed]",
      "text/plain": [
       "<Figure size 864x288 with 2 Axes>"
      ]
     },
     "metadata": {
      "needs_background": "light"
     },
     "output_type": "display_data"
    }
   ],
   "source": [
    "fig, ax = plt.subplots(1, 2, figsize=(12, 4))\n",
    "\n",
    "all_data['matchType'].value_counts().plot.bar(ax=ax[0])\n",
    "\n",
    "'''\n",
    "solo  <-- solo,solo-fpp,normal-solo,normal-solo-fpp\n",
    "duo   <-- duo,duo-fpp,normal-duo,normal-duo-fpp,crashfpp,crashtpp\n",
    "squad <-- squad,squad-fpp,normal-squad,normal-squad-fpp,flarefpp,flaretpp\n",
    "'''\n",
    "mapper = lambda x: 'solo' if ('solo' in x) else 'duo' if ('duo' in x) or ('crash' in x) else 'squad'\n",
    "all_data[\"matchType\"] = all_data['matchType'].apply(mapper)\n",
    "all_data[\"matchType\"].value_counts().plot.bar(ax=ax[1])"
   ]
  },
  {
   "cell_type": "code",
   "execution_count": 9,
   "metadata": {},
   "outputs": [],
   "source": [
    "#sns.distplot(all_data['matchDuration'])"
   ]
  },
  {
   "cell_type": "code",
   "execution_count": 10,
   "metadata": {},
   "outputs": [],
   "source": [
    "#sns.distplot(all_data[all_data[\"players_joined\"] == 100][\"matchDuration\"])"
   ]
  },
  {
   "cell_type": "code",
   "execution_count": 11,
   "metadata": {},
   "outputs": [
    {
     "name": "stdout",
     "output_type": "stream",
     "text": [
      "Only 0.0% of the data is an 'other' match type\n"
     ]
    }
   ],
   "source": [
    "print(\"Only {}% of the data is an 'other' match type\".format(all_data[all_data['matchType'] == \"other\"].shape[0]/train.shape[0]*100))"
   ]
  },
  {
   "cell_type": "code",
   "execution_count": 12,
   "metadata": {},
   "outputs": [
    {
     "name": "stdout",
     "output_type": "stream",
     "text": [
      "Only 0.0% of the data is an 'custom' match type\n"
     ]
    }
   ],
   "source": [
    "print(\"Only {}% of the data is an 'custom' match type\".format(all_data[all_data['matchType'] == \"custom\"].shape[0]/train.shape[0]*100))"
   ]
  },
  {
   "cell_type": "markdown",
   "metadata": {},
   "source": [
    "## Feature Engineering"
   ]
  },
  {
   "cell_type": "code",
   "execution_count": 13,
   "metadata": {},
   "outputs": [
    {
     "data": {
      "text/html": [
       "<div>\n",
       "<style scoped>\n",
       "    .dataframe tbody tr th:only-of-type {\n",
       "        vertical-align: middle;\n",
       "    }\n",
       "\n",
       "    .dataframe tbody tr th {\n",
       "        vertical-align: top;\n",
       "    }\n",
       "\n",
       "    .dataframe thead th {\n",
       "        text-align: right;\n",
       "    }\n",
       "</style>\n",
       "<table border=\"1\" class=\"dataframe\">\n",
       "  <thead>\n",
       "    <tr style=\"text-align: right;\">\n",
       "      <th></th>\n",
       "      <th>groupId</th>\n",
       "      <th>matchId</th>\n",
       "      <th>assists</th>\n",
       "      <th>boosts</th>\n",
       "      <th>damageDealt</th>\n",
       "      <th>DBNOs</th>\n",
       "      <th>headshotKills</th>\n",
       "      <th>heals</th>\n",
       "      <th>killPlace</th>\n",
       "      <th>killPoints</th>\n",
       "      <th>...</th>\n",
       "      <th>revives</th>\n",
       "      <th>rideDistance</th>\n",
       "      <th>roadKills</th>\n",
       "      <th>swimDistance</th>\n",
       "      <th>teamKills</th>\n",
       "      <th>vehicleDestroys</th>\n",
       "      <th>walkDistance</th>\n",
       "      <th>weaponsAcquired</th>\n",
       "      <th>winPoints</th>\n",
       "      <th>perspective</th>\n",
       "    </tr>\n",
       "  </thead>\n",
       "  <tbody>\n",
       "    <tr>\n",
       "      <th>0</th>\n",
       "      <td>4d4b580de459be</td>\n",
       "      <td>a10357fd1a4a91</td>\n",
       "      <td>0</td>\n",
       "      <td>0</td>\n",
       "      <td>0.000</td>\n",
       "      <td>0</td>\n",
       "      <td>0</td>\n",
       "      <td>0</td>\n",
       "      <td>60</td>\n",
       "      <td>1241</td>\n",
       "      <td>...</td>\n",
       "      <td>0</td>\n",
       "      <td>0.0000</td>\n",
       "      <td>0</td>\n",
       "      <td>0.00</td>\n",
       "      <td>0</td>\n",
       "      <td>0</td>\n",
       "      <td>244.80</td>\n",
       "      <td>1</td>\n",
       "      <td>1466</td>\n",
       "      <td>fpp</td>\n",
       "    </tr>\n",
       "    <tr>\n",
       "      <th>1</th>\n",
       "      <td>684d5656442f9e</td>\n",
       "      <td>aeb375fc57110c</td>\n",
       "      <td>0</td>\n",
       "      <td>0</td>\n",
       "      <td>91.470</td>\n",
       "      <td>0</td>\n",
       "      <td>0</td>\n",
       "      <td>0</td>\n",
       "      <td>57</td>\n",
       "      <td>0</td>\n",
       "      <td>...</td>\n",
       "      <td>0</td>\n",
       "      <td>0.0045</td>\n",
       "      <td>0</td>\n",
       "      <td>11.04</td>\n",
       "      <td>0</td>\n",
       "      <td>0</td>\n",
       "      <td>1434.00</td>\n",
       "      <td>5</td>\n",
       "      <td>0</td>\n",
       "      <td>fpp</td>\n",
       "    </tr>\n",
       "    <tr>\n",
       "      <th>2</th>\n",
       "      <td>6a4a42c3245a74</td>\n",
       "      <td>110163d8bb94ae</td>\n",
       "      <td>1</td>\n",
       "      <td>0</td>\n",
       "      <td>68.000</td>\n",
       "      <td>0</td>\n",
       "      <td>0</td>\n",
       "      <td>0</td>\n",
       "      <td>47</td>\n",
       "      <td>0</td>\n",
       "      <td>...</td>\n",
       "      <td>0</td>\n",
       "      <td>0.0000</td>\n",
       "      <td>0</td>\n",
       "      <td>0.00</td>\n",
       "      <td>0</td>\n",
       "      <td>0</td>\n",
       "      <td>161.80</td>\n",
       "      <td>2</td>\n",
       "      <td>0</td>\n",
       "      <td>tpp</td>\n",
       "    </tr>\n",
       "    <tr>\n",
       "      <th>3</th>\n",
       "      <td>a930a9c79cd721</td>\n",
       "      <td>f1f1f4ef412d7e</td>\n",
       "      <td>0</td>\n",
       "      <td>0</td>\n",
       "      <td>32.900</td>\n",
       "      <td>0</td>\n",
       "      <td>0</td>\n",
       "      <td>0</td>\n",
       "      <td>75</td>\n",
       "      <td>0</td>\n",
       "      <td>...</td>\n",
       "      <td>0</td>\n",
       "      <td>0.0000</td>\n",
       "      <td>0</td>\n",
       "      <td>0.00</td>\n",
       "      <td>0</td>\n",
       "      <td>0</td>\n",
       "      <td>202.70</td>\n",
       "      <td>3</td>\n",
       "      <td>0</td>\n",
       "      <td>fpp</td>\n",
       "    </tr>\n",
       "    <tr>\n",
       "      <th>4</th>\n",
       "      <td>de04010b3458dd</td>\n",
       "      <td>6dc8ff871e21e6</td>\n",
       "      <td>0</td>\n",
       "      <td>0</td>\n",
       "      <td>100.000</td>\n",
       "      <td>0</td>\n",
       "      <td>0</td>\n",
       "      <td>0</td>\n",
       "      <td>45</td>\n",
       "      <td>0</td>\n",
       "      <td>...</td>\n",
       "      <td>0</td>\n",
       "      <td>0.0000</td>\n",
       "      <td>0</td>\n",
       "      <td>0.00</td>\n",
       "      <td>0</td>\n",
       "      <td>0</td>\n",
       "      <td>49.75</td>\n",
       "      <td>2</td>\n",
       "      <td>0</td>\n",
       "      <td>fpp</td>\n",
       "    </tr>\n",
       "    <tr>\n",
       "      <th>5</th>\n",
       "      <td>289a6836a88d27</td>\n",
       "      <td>bac52627a12114</td>\n",
       "      <td>0</td>\n",
       "      <td>0</td>\n",
       "      <td>100.000</td>\n",
       "      <td>1</td>\n",
       "      <td>1</td>\n",
       "      <td>0</td>\n",
       "      <td>44</td>\n",
       "      <td>0</td>\n",
       "      <td>...</td>\n",
       "      <td>0</td>\n",
       "      <td>0.0000</td>\n",
       "      <td>0</td>\n",
       "      <td>0.00</td>\n",
       "      <td>0</td>\n",
       "      <td>0</td>\n",
       "      <td>34.70</td>\n",
       "      <td>1</td>\n",
       "      <td>0</td>\n",
       "      <td>fpp</td>\n",
       "    </tr>\n",
       "    <tr>\n",
       "      <th>6</th>\n",
       "      <td>2c485a1ad3d0f1</td>\n",
       "      <td>a8274e903927a2</td>\n",
       "      <td>0</td>\n",
       "      <td>0</td>\n",
       "      <td>0.000</td>\n",
       "      <td>0</td>\n",
       "      <td>0</td>\n",
       "      <td>0</td>\n",
       "      <td>96</td>\n",
       "      <td>1262</td>\n",
       "      <td>...</td>\n",
       "      <td>0</td>\n",
       "      <td>0.0000</td>\n",
       "      <td>0</td>\n",
       "      <td>0.00</td>\n",
       "      <td>0</td>\n",
       "      <td>0</td>\n",
       "      <td>13.50</td>\n",
       "      <td>1</td>\n",
       "      <td>1497</td>\n",
       "      <td>fpp</td>\n",
       "    </tr>\n",
       "    <tr>\n",
       "      <th>7</th>\n",
       "      <td>eaba5fcb7fc1ae</td>\n",
       "      <td>292611730ca862</td>\n",
       "      <td>0</td>\n",
       "      <td>0</td>\n",
       "      <td>8.538</td>\n",
       "      <td>0</td>\n",
       "      <td>0</td>\n",
       "      <td>0</td>\n",
       "      <td>48</td>\n",
       "      <td>1000</td>\n",
       "      <td>...</td>\n",
       "      <td>0</td>\n",
       "      <td>2004.0000</td>\n",
       "      <td>0</td>\n",
       "      <td>0.00</td>\n",
       "      <td>0</td>\n",
       "      <td>0</td>\n",
       "      <td>1089.00</td>\n",
       "      <td>6</td>\n",
       "      <td>1500</td>\n",
       "      <td>fpp</td>\n",
       "    </tr>\n",
       "    <tr>\n",
       "      <th>8</th>\n",
       "      <td>47cfbb04e1b1a2</td>\n",
       "      <td>df014fbee741c6</td>\n",
       "      <td>0</td>\n",
       "      <td>0</td>\n",
       "      <td>51.600</td>\n",
       "      <td>0</td>\n",
       "      <td>0</td>\n",
       "      <td>0</td>\n",
       "      <td>64</td>\n",
       "      <td>0</td>\n",
       "      <td>...</td>\n",
       "      <td>0</td>\n",
       "      <td>0.0000</td>\n",
       "      <td>0</td>\n",
       "      <td>0.00</td>\n",
       "      <td>0</td>\n",
       "      <td>0</td>\n",
       "      <td>799.90</td>\n",
       "      <td>4</td>\n",
       "      <td>0</td>\n",
       "      <td>tpp</td>\n",
       "    </tr>\n",
       "    <tr>\n",
       "      <th>9</th>\n",
       "      <td>759bb6f7514fd2</td>\n",
       "      <td>3d3031c795305b</td>\n",
       "      <td>0</td>\n",
       "      <td>0</td>\n",
       "      <td>37.270</td>\n",
       "      <td>0</td>\n",
       "      <td>0</td>\n",
       "      <td>0</td>\n",
       "      <td>74</td>\n",
       "      <td>0</td>\n",
       "      <td>...</td>\n",
       "      <td>0</td>\n",
       "      <td>0.0000</td>\n",
       "      <td>0</td>\n",
       "      <td>0.00</td>\n",
       "      <td>0</td>\n",
       "      <td>0</td>\n",
       "      <td>65.67</td>\n",
       "      <td>1</td>\n",
       "      <td>0</td>\n",
       "      <td>tpp</td>\n",
       "    </tr>\n",
       "  </tbody>\n",
       "</table>\n",
       "<p>10 rows × 28 columns</p>\n",
       "</div>"
      ],
      "text/plain": [
       "          groupId         matchId  assists  boosts  damageDealt  DBNOs  \\\n",
       "0  4d4b580de459be  a10357fd1a4a91        0       0        0.000      0   \n",
       "1  684d5656442f9e  aeb375fc57110c        0       0       91.470      0   \n",
       "2  6a4a42c3245a74  110163d8bb94ae        1       0       68.000      0   \n",
       "3  a930a9c79cd721  f1f1f4ef412d7e        0       0       32.900      0   \n",
       "4  de04010b3458dd  6dc8ff871e21e6        0       0      100.000      0   \n",
       "5  289a6836a88d27  bac52627a12114        0       0      100.000      1   \n",
       "6  2c485a1ad3d0f1  a8274e903927a2        0       0        0.000      0   \n",
       "7  eaba5fcb7fc1ae  292611730ca862        0       0        8.538      0   \n",
       "8  47cfbb04e1b1a2  df014fbee741c6        0       0       51.600      0   \n",
       "9  759bb6f7514fd2  3d3031c795305b        0       0       37.270      0   \n",
       "\n",
       "   headshotKills  heals  killPlace  killPoints     ...       revives  \\\n",
       "0              0      0         60        1241     ...             0   \n",
       "1              0      0         57           0     ...             0   \n",
       "2              0      0         47           0     ...             0   \n",
       "3              0      0         75           0     ...             0   \n",
       "4              0      0         45           0     ...             0   \n",
       "5              1      0         44           0     ...             0   \n",
       "6              0      0         96        1262     ...             0   \n",
       "7              0      0         48        1000     ...             0   \n",
       "8              0      0         64           0     ...             0   \n",
       "9              0      0         74           0     ...             0   \n",
       "\n",
       "   rideDistance  roadKills  swimDistance teamKills  vehicleDestroys  \\\n",
       "0        0.0000          0          0.00         0                0   \n",
       "1        0.0045          0         11.04         0                0   \n",
       "2        0.0000          0          0.00         0                0   \n",
       "3        0.0000          0          0.00         0                0   \n",
       "4        0.0000          0          0.00         0                0   \n",
       "5        0.0000          0          0.00         0                0   \n",
       "6        0.0000          0          0.00         0                0   \n",
       "7     2004.0000          0          0.00         0                0   \n",
       "8        0.0000          0          0.00         0                0   \n",
       "9        0.0000          0          0.00         0                0   \n",
       "\n",
       "   walkDistance  weaponsAcquired  winPoints  perspective  \n",
       "0        244.80                1       1466          fpp  \n",
       "1       1434.00                5          0          fpp  \n",
       "2        161.80                2          0          tpp  \n",
       "3        202.70                3          0          fpp  \n",
       "4         49.75                2          0          fpp  \n",
       "5         34.70                1          0          fpp  \n",
       "6         13.50                1       1497          fpp  \n",
       "7       1089.00                6       1500          fpp  \n",
       "8        799.90                4          0          tpp  \n",
       "9         65.67                1          0          tpp  \n",
       "\n",
       "[10 rows x 28 columns]"
      ]
     },
     "execution_count": 13,
     "metadata": {},
     "output_type": "execute_result"
    }
   ],
   "source": [
    "all_data.head(10)"
   ]
  },
  {
   "cell_type": "code",
   "execution_count": 14,
   "metadata": {},
   "outputs": [],
   "source": [
    "# these features are inconsistent, lets just drop them.\n",
    "# another possibility is to consolodate them into one column\n",
    "all_data.drop(['rankPoints','killPoints','winPoints'], axis=1, inplace=True)"
   ]
  },
  {
   "cell_type": "code",
   "execution_count": 15,
   "metadata": {},
   "outputs": [],
   "source": [
    "# Add a feature containing the number of players that joined each match.\n",
    "all_data['players_joined'] = all_data.groupby('matchId')['matchId'].transform('count')\n",
    "\n",
    "# Number of players on a team (really the number of players that place together)\n",
    "all_data = all_data.assign(players_in_team=all_data.groupby('groupId').groupId.transform('count'))"
   ]
  },
  {
   "cell_type": "code",
   "execution_count": 16,
   "metadata": {},
   "outputs": [
    {
     "name": "stdout",
     "output_type": "stream",
     "text": [
      "Percentage of data that has more players in group then max_team_size:\n",
      "0.2060862488656022\n"
     ]
    }
   ],
   "source": [
    "team_mapper = lambda x: 1 if ('solo' in x) else 2 if ('duo' in x) else 4\n",
    "all_data[\"max_team_size\"] = all_data['matchType'].apply(team_mapper)\n",
    "\n",
    "print(\"Percentage of data that has more players in group then max_team_size:\")\n",
    "print(all_data[all_data[\"players_in_team\"] > all_data[\"max_team_size\"]].shape[0]/all_data.shape[0])\n",
    "\n",
    "# Percentage of team that is filled\n",
    "def team_fill(row):\n",
    "    if row[\"players_in_team\"] > row[\"max_team_size\"]:\n",
    "        return 1\n",
    "    else:\n",
    "        return row[\"players_in_team\"]/row[\"max_team_size\"]\n",
    "\n",
    "all_data[\"team_fill_percentage\"] = all_data.apply(team_fill, axis=1)\n",
    "\n",
    "all_data.drop(['max_team_size'], axis=1, inplace=True)"
   ]
  },
  {
   "cell_type": "code",
   "execution_count": 17,
   "metadata": {},
   "outputs": [],
   "source": [
    "# Heals + Boosts\n",
    "all_data['heals_and_boosts'] = all_data['heals'] + all_data['boosts']\n",
    "\n",
    "# Total Items Acquired\n",
    "all_data['total_items_acquired'] = all_data['boosts'] + all_data['heals'] + all_data['weaponsAcquired']\n",
    "\n",
    "# Headshot kill rate\n",
    "all_data['headshot_kill_rate'] = all_data.headshotKills/all_data.kills\n",
    "\n",
    "# KillPlace Percentage\n",
    "all_data['kill_place_perc'] = all_data['killPlace']/all_data['maxPlace']\n",
    "\n",
    "# teamwork\n",
    "all_data['teamwork'] = all_data['assists'] + all_data['revives']\n",
    "\n",
    "#Total amount of distance traveled\n",
    "all_data['total_distance'] = all_data['walkDistance'] + all_data['rideDistance'] + all_data['swimDistance']\n",
    "\n",
    "# Number of kills without moving (possible cheater)\n",
    "all_data['kills_without_moving'] = ((all_data['kills'] > 0) & (all_data['total_distance'] == 0))"
   ]
  },
  {
   "cell_type": "code",
   "execution_count": 18,
   "metadata": {},
   "outputs": [],
   "source": [
    "# Boosts Per Walk Distance\n",
    "all_data['boostsPerWalkDistance'] = all_data['boosts']/(all_data['walkDistance']+1) #The +1 is to avoid infinity, because there are entries where boosts>0 and walkDistance=0. Strange.\n",
    "\n",
    "# Heals Per Walk Distance\n",
    "all_data['healsPerWalkDistance'] = all_data['heals']/(all_data['walkDistance']+1) #The +1 is to avoid infinity, because there are entries where heals>0 and walkDistance=0. Strange.\n",
    "\n",
    "# Heals and Boost Per Walk Distance\n",
    "all_data['healsAndBoostsPerWalkDistance'] = all_data['heals_and_boosts']/(all_data['walkDistance']+1) #The +1 is to avoid infinity.\n",
    "\n",
    "# Kills Per Walk Distance\n",
    "all_data['killsPerWalkDistance'] = all_data['kills']/(all_data['walkDistance']+1) #The +1 is to avoid infinity, because there are entries where kills>0 and walkDistance=0. Strange.\n",
    "\n",
    "# Weapons Per Walk Distance\n",
    "all_data[\"weaponsAcquiredPerDistance\"] = all_data['weaponsAcquired']/(all_data['walkDistance']+1)"
   ]
  },
  {
   "cell_type": "code",
   "execution_count": 19,
   "metadata": {},
   "outputs": [],
   "source": [
    "all_data['total_damage_by_team'] = all_data.groupby('groupId').damageDealt.transform('sum')\n",
    "all_data['total_kills_by_team'] =  all_data.groupby('groupId').kills.transform('sum')\n",
    "all_data['total_team_buffs'] = all_data.groupby('groupId').heals_and_boosts.transform('sum')\n",
    "\n",
    "all_data['pct_killed'] = all_data.kills/(all_data.players_joined - all_data.players_in_team + 1)\n",
    "all_data['pct_knocked'] = all_data.DBNOs/(all_data.players_joined - all_data.players_in_team + 1)\n",
    "all_data['pct_kills_by_team'] = all_data.total_kills_by_team/(all_data.players_joined - all_data.players_in_team + 1)"
   ]
  },
  {
   "cell_type": "code",
   "execution_count": 20,
   "metadata": {},
   "outputs": [
    {
     "data": {
      "text/html": [
       "<div>\n",
       "<style scoped>\n",
       "    .dataframe tbody tr th:only-of-type {\n",
       "        vertical-align: middle;\n",
       "    }\n",
       "\n",
       "    .dataframe tbody tr th {\n",
       "        vertical-align: top;\n",
       "    }\n",
       "\n",
       "    .dataframe thead th {\n",
       "        text-align: right;\n",
       "    }\n",
       "</style>\n",
       "<table border=\"1\" class=\"dataframe\">\n",
       "  <thead>\n",
       "    <tr style=\"text-align: right;\">\n",
       "      <th></th>\n",
       "      <th>0</th>\n",
       "      <th>1</th>\n",
       "    </tr>\n",
       "  </thead>\n",
       "  <tbody>\n",
       "    <tr>\n",
       "      <th>afk</th>\n",
       "      <td>6356060</td>\n",
       "      <td>25079</td>\n",
       "    </tr>\n",
       "    <tr>\n",
       "      <th>cheater</th>\n",
       "      <td>6379012</td>\n",
       "      <td>2127</td>\n",
       "    </tr>\n",
       "  </tbody>\n",
       "</table>\n",
       "</div>"
      ],
      "text/plain": [
       "               0      1\n",
       "afk      6356060  25079\n",
       "cheater  6379012   2127"
      ]
     },
     "execution_count": 20,
     "metadata": {},
     "output_type": "execute_result"
    }
   ],
   "source": [
    "distance = all_data['total_distance']\n",
    "\n",
    "all_data['afk'] = ((distance == 0) & (all_data['kills'] == 0) \n",
    "                      & (all_data['weaponsAcquired'] == 0) \n",
    "                      & (all_data['matchType'] == 'solo')).astype(int)\n",
    "\n",
    "all_data['cheater'] = ((all_data['kills'] / distance >= 1) \n",
    "                       | (all_data['kills'] > 30) \n",
    "                       | (all_data['roadKills'] > 10)).astype(int)\n",
    "del distance\n",
    "                      \n",
    "pd.concat([all_data['afk'].value_counts(), all_data['cheater'].value_counts()], axis=1).T"
   ]
  },
  {
   "cell_type": "code",
   "execution_count": 21,
   "metadata": {},
   "outputs": [],
   "source": [
    "# Create normalized features\n",
    "all_data['killsNorm'] = all_data['kills']*((100-all_data['players_joined'])/100 + 1)\n",
    "all_data['damageDealtNorm'] = all_data['damageDealt']*((100-all_data['players_joined'])/100 + 1)\n",
    "all_data['maxPlaceNorm'] = all_data['maxPlace']*((100-all_data['players_joined'])/100 + 1)\n",
    "\n",
    "# Features to remove if you normalize\n",
    "all_data = all_data.drop([ 'kills', 'damageDealt', 'maxPlace'],axis=1)"
   ]
  },
  {
   "cell_type": "code",
   "execution_count": 22,
   "metadata": {},
   "outputs": [],
   "source": [
    "# Features to remove if you normalize\n",
    "all_data = all_data.drop([ 'matchId', 'groupId', 'matchType'],axis=1)"
   ]
  },
  {
   "cell_type": "code",
   "execution_count": 34,
   "metadata": {},
   "outputs": [],
   "source": [
    "# Features to remove if you normalize\n",
    "all_data = all_data.drop([ 'heals', 'boosts', 'total_items_acquired'],axis=1)"
   ]
  },
  {
   "cell_type": "raw",
   "metadata": {},
   "source": [
    "# More Normalized Features\n",
    "all_data['headshotKillsNorm'] = all_data['headshotKills']*((100-all_data['playersJoined'])/100 + 1)\n",
    "all_data['killPlaceNorm'] = all_data['killPlace']*((100-all_data['playersJoined'])/100 + 1)\n",
    "all_data['killPointsNorm'] = all_data['killPoints']*((100-all_data['playersJoined'])/100 + 1)\n",
    "all_data['killStreaksNorm'] = all_data['killStreaks']*((100-all_data['playersJoined'])/100 + 1)\n",
    "all_data['longestKillNorm'] = all_data['longestKill']*((100-all_data['playersJoined'])/100 + 1)\n",
    "all_data['roadKillsNorm'] = all_data['roadKills']*((100-all_data['playersJoined'])/100 + 1)\n",
    "all_data['teamKillsNorm'] = all_data['teamKills']*((100-all_data['playersJoined'])/100 + 1)\n",
    "all_data['DBNOsNorm'] = all_data['DBNOs']*((100-all_data['playersJoined'])/100 + 1)\n",
    "all_data['revivesNorm'] = all_data['revives']*((100-all_data['playersJoined'])/100 + 1)\n",
    "\n",
    "# Features to remove if you normalize\n",
    "all_data = all_data.drop([ 'kills', 'headshotKills', 'killPlace', 'killPoints', 'killStreaks', \n",
    " 'longestKill', 'roadKills', 'teamKills', 'damageDealt', 'DBNOs', 'revives'],axis=1)"
   ]
  },
  {
   "cell_type": "code",
   "execution_count": 23,
   "metadata": {},
   "outputs": [],
   "source": [
    "# Fill empty values with 0\n",
    "all_data.fillna(0, inplace=True)"
   ]
  },
  {
   "cell_type": "code",
   "execution_count": 24,
   "metadata": {},
   "outputs": [
    {
     "data": {
      "text/html": [
       "<div>\n",
       "<style scoped>\n",
       "    .dataframe tbody tr th:only-of-type {\n",
       "        vertical-align: middle;\n",
       "    }\n",
       "\n",
       "    .dataframe tbody tr th {\n",
       "        vertical-align: top;\n",
       "    }\n",
       "\n",
       "    .dataframe thead th {\n",
       "        text-align: right;\n",
       "    }\n",
       "</style>\n",
       "<table border=\"1\" class=\"dataframe\">\n",
       "  <thead>\n",
       "    <tr style=\"text-align: right;\">\n",
       "      <th></th>\n",
       "      <th>assists</th>\n",
       "      <th>boosts</th>\n",
       "      <th>DBNOs</th>\n",
       "      <th>headshotKills</th>\n",
       "      <th>heals</th>\n",
       "      <th>killPlace</th>\n",
       "      <th>killStreaks</th>\n",
       "      <th>longestKill</th>\n",
       "      <th>matchDuration</th>\n",
       "      <th>numGroups</th>\n",
       "      <th>...</th>\n",
       "      <th>total_kills_by_team</th>\n",
       "      <th>total_team_buffs</th>\n",
       "      <th>pct_killed</th>\n",
       "      <th>pct_knocked</th>\n",
       "      <th>pct_kills_by_team</th>\n",
       "      <th>afk</th>\n",
       "      <th>cheater</th>\n",
       "      <th>killsNorm</th>\n",
       "      <th>damageDealtNorm</th>\n",
       "      <th>maxPlaceNorm</th>\n",
       "    </tr>\n",
       "  </thead>\n",
       "  <tbody>\n",
       "    <tr>\n",
       "      <th>0</th>\n",
       "      <td>0</td>\n",
       "      <td>0</td>\n",
       "      <td>0</td>\n",
       "      <td>0</td>\n",
       "      <td>0</td>\n",
       "      <td>60</td>\n",
       "      <td>0</td>\n",
       "      <td>0.00</td>\n",
       "      <td>1306</td>\n",
       "      <td>26</td>\n",
       "      <td>...</td>\n",
       "      <td>4</td>\n",
       "      <td>0</td>\n",
       "      <td>0.000000</td>\n",
       "      <td>0.0</td>\n",
       "      <td>0.043011</td>\n",
       "      <td>0</td>\n",
       "      <td>0</td>\n",
       "      <td>0.00</td>\n",
       "      <td>0.0000</td>\n",
       "      <td>29.12</td>\n",
       "    </tr>\n",
       "    <tr>\n",
       "      <th>1</th>\n",
       "      <td>0</td>\n",
       "      <td>0</td>\n",
       "      <td>0</td>\n",
       "      <td>0</td>\n",
       "      <td>0</td>\n",
       "      <td>57</td>\n",
       "      <td>0</td>\n",
       "      <td>0.00</td>\n",
       "      <td>1777</td>\n",
       "      <td>25</td>\n",
       "      <td>...</td>\n",
       "      <td>4</td>\n",
       "      <td>19</td>\n",
       "      <td>0.000000</td>\n",
       "      <td>0.0</td>\n",
       "      <td>0.045455</td>\n",
       "      <td>0</td>\n",
       "      <td>0</td>\n",
       "      <td>0.00</td>\n",
       "      <td>99.7023</td>\n",
       "      <td>28.34</td>\n",
       "    </tr>\n",
       "    <tr>\n",
       "      <th>2</th>\n",
       "      <td>1</td>\n",
       "      <td>0</td>\n",
       "      <td>0</td>\n",
       "      <td>0</td>\n",
       "      <td>0</td>\n",
       "      <td>47</td>\n",
       "      <td>0</td>\n",
       "      <td>0.00</td>\n",
       "      <td>1318</td>\n",
       "      <td>47</td>\n",
       "      <td>...</td>\n",
       "      <td>2</td>\n",
       "      <td>5</td>\n",
       "      <td>0.000000</td>\n",
       "      <td>0.0</td>\n",
       "      <td>0.020619</td>\n",
       "      <td>0</td>\n",
       "      <td>0</td>\n",
       "      <td>0.00</td>\n",
       "      <td>69.3600</td>\n",
       "      <td>51.00</td>\n",
       "    </tr>\n",
       "    <tr>\n",
       "      <th>3</th>\n",
       "      <td>0</td>\n",
       "      <td>0</td>\n",
       "      <td>0</td>\n",
       "      <td>0</td>\n",
       "      <td>0</td>\n",
       "      <td>75</td>\n",
       "      <td>0</td>\n",
       "      <td>0.00</td>\n",
       "      <td>1436</td>\n",
       "      <td>30</td>\n",
       "      <td>...</td>\n",
       "      <td>0</td>\n",
       "      <td>0</td>\n",
       "      <td>0.000000</td>\n",
       "      <td>0.0</td>\n",
       "      <td>0.000000</td>\n",
       "      <td>0</td>\n",
       "      <td>0</td>\n",
       "      <td>0.00</td>\n",
       "      <td>35.8610</td>\n",
       "      <td>33.79</td>\n",
       "    </tr>\n",
       "    <tr>\n",
       "      <th>4</th>\n",
       "      <td>0</td>\n",
       "      <td>0</td>\n",
       "      <td>0</td>\n",
       "      <td>0</td>\n",
       "      <td>0</td>\n",
       "      <td>45</td>\n",
       "      <td>1</td>\n",
       "      <td>58.53</td>\n",
       "      <td>1424</td>\n",
       "      <td>95</td>\n",
       "      <td>...</td>\n",
       "      <td>1</td>\n",
       "      <td>0</td>\n",
       "      <td>0.010309</td>\n",
       "      <td>0.0</td>\n",
       "      <td>0.010309</td>\n",
       "      <td>0</td>\n",
       "      <td>0</td>\n",
       "      <td>1.03</td>\n",
       "      <td>103.0000</td>\n",
       "      <td>99.91</td>\n",
       "    </tr>\n",
       "  </tbody>\n",
       "</table>\n",
       "<p>5 rows × 45 columns</p>\n",
       "</div>"
      ],
      "text/plain": [
       "   assists  boosts  DBNOs  headshotKills  heals  killPlace  killStreaks  \\\n",
       "0        0       0      0              0      0         60            0   \n",
       "1        0       0      0              0      0         57            0   \n",
       "2        1       0      0              0      0         47            0   \n",
       "3        0       0      0              0      0         75            0   \n",
       "4        0       0      0              0      0         45            1   \n",
       "\n",
       "   longestKill  matchDuration  numGroups      ...       total_kills_by_team  \\\n",
       "0         0.00           1306         26      ...                         4   \n",
       "1         0.00           1777         25      ...                         4   \n",
       "2         0.00           1318         47      ...                         2   \n",
       "3         0.00           1436         30      ...                         0   \n",
       "4        58.53           1424         95      ...                         1   \n",
       "\n",
       "   total_team_buffs  pct_killed  pct_knocked  pct_kills_by_team  afk  cheater  \\\n",
       "0                 0    0.000000          0.0           0.043011    0        0   \n",
       "1                19    0.000000          0.0           0.045455    0        0   \n",
       "2                 5    0.000000          0.0           0.020619    0        0   \n",
       "3                 0    0.000000          0.0           0.000000    0        0   \n",
       "4                 0    0.010309          0.0           0.010309    0        0   \n",
       "\n",
       "   killsNorm damageDealtNorm  maxPlaceNorm  \n",
       "0       0.00          0.0000         29.12  \n",
       "1       0.00         99.7023         28.34  \n",
       "2       0.00         69.3600         51.00  \n",
       "3       0.00         35.8610         33.79  \n",
       "4       1.03        103.0000         99.91  \n",
       "\n",
       "[5 rows x 45 columns]"
      ]
     },
     "execution_count": 24,
     "metadata": {},
     "output_type": "execute_result"
    }
   ],
   "source": [
    "all_data.head()"
   ]
  },
  {
   "cell_type": "markdown",
   "metadata": {},
   "source": [
    "## Split Data"
   ]
  },
  {
   "cell_type": "raw",
   "metadata": {
    "collapsed": true
   },
   "source": [
    "# Seperate the data into the matchTypes\n",
    "solo = data[data['matchType'] == 'solo']\n",
    "duo = data[data['matchType'] == 'duo']\n",
    "squad = data[data['matchType'] == 'squad']\n",
    "#other = data[data['matchType'] == 'Other']"
   ]
  },
  {
   "cell_type": "code",
   "execution_count": 37,
   "metadata": {},
   "outputs": [
    {
     "name": "stderr",
     "output_type": "stream",
     "text": [
      "/home/clive_unix/.local/lib/python3.6/site-packages/ipykernel_launcher.py:5: SettingWithCopyWarning: \n",
      "A value is trying to be set on a copy of a slice from a DataFrame.\n",
      "Try using .loc[row_indexer,col_indexer] = value instead\n",
      "\n",
      "See the caveats in the documentation: http://pandas.pydata.org/pandas-docs/stable/indexing.html#indexing-view-versus-copy\n",
      "  \"\"\"\n"
     ]
    }
   ],
   "source": [
    "# split back into train and test set\n",
    "X_train = all_data[:trainId.size]\n",
    "X_test = all_data[trainId.size:]\n",
    "y_train = y_train\n",
    "X_train[\"winPlacePerc\"] = y_train"
   ]
  },
  {
   "cell_type": "raw",
   "metadata": {},
   "source": [
    "X_train[\"Id\"] = trainId\n",
    "\n",
    "X_train.to_csv(\"new_train.csv\", index=False)\n",
    "\n",
    "X_test[\"Id\"] = trainId\n",
    "X_test.to_csv(\"new_test.csv\", index=False)"
   ]
  },
  {
   "cell_type": "code",
   "execution_count": 38,
   "metadata": {},
   "outputs": [
    {
     "data": {
      "image/png": "[encoded data removed]",
      "text/plain": [
       "<Figure size 792x792 with 2 Axes>"
      ]
     },
     "metadata": {},
     "output_type": "display_data"
    }
   ],
   "source": [
    "k = 11 #number of variables for heatmap\n",
    "f,ax = plt.subplots(figsize=(11, 11))\n",
    "cols = X_train.corr().nlargest(k, 'winPlacePerc')['winPlacePerc'].index\n",
    "cm = np.corrcoef(X_train[cols].values.T)\n",
    "sns.set(font_scale=1.25)\n",
    "hm = sns.heatmap(cm, cbar=True, annot=True, square=True, fmt='.2f', annot_kws={'size': 10}, yticklabels=cols.values, xticklabels=cols.values)\n",
    "plt.show()"
   ]
  },
  {
   "cell_type": "markdown",
   "metadata": {},
   "source": [
    "## Functions:"
   ]
  },
  {
   "cell_type": "code",
   "execution_count": 28,
   "metadata": {},
   "outputs": [],
   "source": [
    "# Cross-Validation Abosolute Mean Error scoring\n",
    "def abs_mean_error_cv(model, train_set):\n",
    "    kf = KFold(5, shuffle=True, random_state=0).get_n_splits(train_set)\n",
    "    abs_mean_err = cross_val_score(model, train_set, y_train, scoring=\"neg_mean_absolute_error\", cv = kf)\n",
    "    return abs_mean_err.mean()"
   ]
  },
  {
   "cell_type": "code",
   "execution_count": 29,
   "metadata": {},
   "outputs": [],
   "source": [
    "# Generates predictions and submission for a given model\n",
    "def gen_sub(name, model):\n",
    "    y_pred = model.predict_proba(X_test).T[1]\n",
    "    solution = pd.DataFrame({\"Id\":testId, \"Y\":y_pred})\n",
    "    solution.to_csv(name +\".csv\", index = False)"
   ]
  },
  {
   "cell_type": "markdown",
   "metadata": {},
   "source": [
    "## Models"
   ]
  },
  {
   "cell_type": "raw",
   "metadata": {},
   "source": [
    "# Train basic model\n",
    "m1 = RandomForestRegressor(n_estimators=100, min_samples_leaf=3, max_features='sqrt',\n",
    "                          n_jobs=-1)\n",
    "m1.fit(X_train, y_train)\n",
    "print_score(m1)"
   ]
  },
  {
   "cell_type": "raw",
   "metadata": {
    "collapsed": true
   },
   "source": [
    "new_train = X_train.copy()\n",
    "new_train['winPlacePerc'] = y_train"
   ]
  },
  {
   "cell_type": "raw",
   "metadata": {},
   "source": [
    "sample_train = new_train.sample(frac=0.05, random_state=42)"
   ]
  },
  {
   "cell_type": "raw",
   "metadata": {},
   "source": [
    "sample_y_train = sample_train['winPlacePerc']\n",
    "dropColumns = ['groupId', 'matchId', 'matchType', 'winPlacePerc']\n",
    "sample_train.drop(dropColumns, axis = 1, inplace = True) "
   ]
  },
  {
   "cell_type": "raw",
   "metadata": {},
   "source": [
    "X_train4, X_test4, y_train4, y_test4 = train_test_split(sample_train, sample_y_train, test_size=0.33, random_state=42)"
   ]
  },
  {
   "cell_type": "raw",
   "metadata": {},
   "source": [
    "xgbregressor = xgb.XGBRegressor(learning_rate=0.11,\n",
    "                                     max_depth = 5,\n",
    "                                     subsample = 0.85,\n",
    "                                     nthread=8,\n",
    "                                     colsample_bytree = 0.7,\n",
    "                                     n_estimators=2000)"
   ]
  },
  {
   "cell_type": "raw",
   "metadata": {},
   "source": [
    "xgbregressor.fit(X_train, y_train)"
   ]
  },
  {
   "cell_type": "raw",
   "metadata": {},
   "source": [
    "fig, ax = plt.subplots(figsize=(12,18))\n",
    "xgb.plot_importance(xgbregressor, max_num_features=10, height=0.8, ax=ax)\n",
    "plt.show()"
   ]
  },
  {
   "cell_type": "raw",
   "metadata": {},
   "source": [
    "pd.set_option('display.max_rows', 10)\n",
    "pd.set_option('display.max_columns', 50)\n",
    "train[train['matchId'].str.contains('a10357fd1a4a91')].head()"
   ]
  },
  {
   "cell_type": "raw",
   "metadata": {},
   "source": [
    "dropColumns = ['groupId', 'matchId', 'matchType']\n",
    "print('Before', X_test.shape)\n",
    "X_test.drop(dropColumns, axis = 1, inplace = True)\n",
    "print('After', X_test.shape)"
   ]
  },
  {
   "cell_type": "raw",
   "metadata": {},
   "source": [
    "y_pred = xgbregressor.predict(X_test)\n",
    "submission = pd.DataFrame({'Id': testId,'winPlacePerc': y_pred})\n",
    "submission.to_csv('lazy_xgb_lalala.csv', index=False)"
   ]
  }
 ],
 "metadata": {
  "kernelspec": {
   "display_name": "Python 3",
   "language": "python",
   "name": "python3"
  },
  "language_info": {
   "codemirror_mode": {
    "name": "ipython",
    "version": 3
   },
   "file_extension": ".py",
   "mimetype": "text/x-python",
   "name": "python",
   "nbconvert_exporter": "python",
   "pygments_lexer": "ipython3",
   "version": "3.6.5"
  }
 },
 "nbformat": 4,
 "nbformat_minor": 2
}
